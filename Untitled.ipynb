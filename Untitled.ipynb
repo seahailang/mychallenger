{
 "cells": [
  {
   "cell_type": "code",
   "execution_count": 1,
   "metadata": {
    "collapsed": true
   },
   "outputs": [],
   "source": [
    "import tensorflow as tf"
   ]
  },
  {
   "cell_type": "code",
   "execution_count": 2,
   "metadata": {},
   "outputs": [],
   "source": [
    "sess = tf.InteractiveSession()"
   ]
  },
  {
   "cell_type": "code",
   "execution_count": 3,
   "metadata": {
    "collapsed": true
   },
   "outputs": [],
   "source": [
    "import numpy as np"
   ]
  },
  {
   "cell_type": "code",
   "execution_count": 4,
   "metadata": {
    "collapsed": true
   },
   "outputs": [],
   "source": [
    "X =  np.random.randint(0,100,size=(64,20))\n",
    "Y = np.random.randint(0,50,size=(64,15))"
   ]
  },
  {
   "cell_type": "code",
   "execution_count": 5,
   "metadata": {},
   "outputs": [],
   "source": [
    "inputs = tf.get_variable(name='inputs',dtype = tf.int32,shape=(64,20),initializer=tf.constant_initializer(X,dtype=tf.int32))"
   ]
  },
  {
   "cell_type": "code",
   "execution_count": 6,
   "metadata": {},
   "outputs": [
    {
     "data": {
      "text/plain": [
       "<tf.Variable 'inputs:0' shape=(64, 20) dtype=int32_ref>"
      ]
     },
     "execution_count": 6,
     "metadata": {},
     "output_type": "execute_result"
    }
   ],
   "source": [
    "inputs"
   ]
  },
  {
   "cell_type": "code",
   "execution_count": 7,
   "metadata": {},
   "outputs": [],
   "source": [
    "target = tf.get_variable(name='target',dtype=tf.int32,shape=(64,20),initializer=tf.constant_initializer(Y,dtype=tf.int32))"
   ]
  },
  {
   "cell_type": "code",
   "execution_count": 8,
   "metadata": {},
   "outputs": [],
   "source": [
    "embedded1= tf.get_variable(name='embedded',shape=(1000,100),dtype=tf.float32,initializer=tf.truncated_normal_initializer())"
   ]
  },
  {
   "cell_type": "code",
   "execution_count": 9,
   "metadata": {
    "collapsed": true
   },
   "outputs": [],
   "source": [
    "embedded2= tf.get_variable(name='embedded2',shape=(1050,100),dtype=tf.float32,initializer=tf.truncated_normal_initializer())"
   ]
  },
  {
   "cell_type": "code",
   "execution_count": 10,
   "metadata": {},
   "outputs": [],
   "source": [
    "eb = tf.nn.embedding_lookup(embedded1,inputs)"
   ]
  },
  {
   "cell_type": "code",
   "execution_count": 11,
   "metadata": {
    "collapsed": true
   },
   "outputs": [],
   "source": [
    "cell_fw=[tf.contrib.rnn.GRUCell(100) for _ in range(3) ]"
   ]
  },
  {
   "cell_type": "code",
   "execution_count": 12,
   "metadata": {
    "collapsed": true
   },
   "outputs": [],
   "source": [
    "cell_bw=[tf.contrib.rnn.GRUCell(60) for _ in range(3) ]"
   ]
  },
  {
   "cell_type": "code",
   "execution_count": 13,
   "metadata": {
    "collapsed": true
   },
   "outputs": [],
   "source": [
    "len_sequence=np.random.randint(10,20,size=64)\n",
    "de_len_sequence = np.random.randint(10,15,size=64)"
   ]
  },
  {
   "cell_type": "code",
   "execution_count": 14,
   "metadata": {
    "collapsed": true
   },
   "outputs": [],
   "source": [
    "outputs,states_fw,states_bw =\\\n",
    "                tf.contrib.rnn.stack_bidirectional_dynamic_rnn(cell_fw,\n",
    "                                                               cell_bw,\n",
    "                                                               eb,\n",
    "                                                               dtype = tf.float32,\n",
    "                                                               sequence_length= len_sequence)"
   ]
  },
  {
   "cell_type": "code",
   "execution_count": null,
   "metadata": {},
   "outputs": [],
   "source": []
  },
  {
   "cell_type": "code",
   "execution_count": null,
   "metadata": {},
   "outputs": [],
   "source": []
  },
  {
   "cell_type": "code",
   "execution_count": 15,
   "metadata": {},
   "outputs": [
    {
     "data": {
      "text/plain": [
       "(<tf.Tensor 'stack_bidirectional_rnn/cell_0/bidirectional_rnn/bw/bw/while/Exit_2:0' shape=(64, 60) dtype=float32>,\n",
       " <tf.Tensor 'stack_bidirectional_rnn/cell_1/bidirectional_rnn/bw/bw/while/Exit_2:0' shape=(64, 60) dtype=float32>,\n",
       " <tf.Tensor 'stack_bidirectional_rnn/cell_2/bidirectional_rnn/bw/bw/while/Exit_2:0' shape=(64, 60) dtype=float32>)"
      ]
     },
     "execution_count": 15,
     "metadata": {},
     "output_type": "execute_result"
    }
   ],
   "source": [
    "states_bw"
   ]
  },
  {
   "cell_type": "code",
   "execution_count": 16,
   "metadata": {
    "collapsed": true
   },
   "outputs": [],
   "source": [
    "attention_m = tf.contrib.seq2seq.BahdanauAttention(100,outputs,len_sequence)"
   ]
  },
  {
   "cell_type": "code",
   "execution_count": 17,
   "metadata": {
    "collapsed": true
   },
   "outputs": [],
   "source": [
    "cell_out = [tf.contrib.rnn.GRUCell(480) for _ in range(3)]"
   ]
  },
  {
   "cell_type": "code",
   "execution_count": 18,
   "metadata": {
    "collapsed": true
   },
   "outputs": [],
   "source": [
    "attention_cell =[tf.contrib.seq2seq.AttentionWrapper(cell_out[i],attention_m) for i in range(3)]"
   ]
  },
  {
   "cell_type": "code",
   "execution_count": null,
   "metadata": {
    "collapsed": true
   },
   "outputs": [],
   "source": []
  },
  {
   "cell_type": "code",
   "execution_count": 19,
   "metadata": {
    "collapsed": true
   },
   "outputs": [],
   "source": [
    "dense_fw = tf.concat(states_fw,axis=1)\n",
    "dense_bw = tf.concat(states_bw,axis=1)\n",
    "states = tf.concat([dense_bw,dense_fw],axis = 1)"
   ]
  },
  {
   "cell_type": "code",
   "execution_count": 20,
   "metadata": {},
   "outputs": [
    {
     "data": {
      "text/plain": [
       "<tf.Tensor 'concat_2:0' shape=(64, 480) dtype=float32>"
      ]
     },
     "execution_count": 20,
     "metadata": {},
     "output_type": "execute_result"
    }
   ],
   "source": [
    "states"
   ]
  },
  {
   "cell_type": "code",
   "execution_count": 21,
   "metadata": {
    "collapsed": true
   },
   "outputs": [],
   "source": [
    "is_inference=False"
   ]
  },
  {
   "cell_type": "code",
   "execution_count": 22,
   "metadata": {
    "collapsed": true
   },
   "outputs": [],
   "source": [
    "if is_inference:\n",
    "    start_tokens = tf.placeholder(tf.int32, shape=[None], name='start_tokens')\n",
    "    end_token = tf.placeholder(tf.int32,shape=[], name='end_token')\n",
    "    helper = tf.contrib.seq2seq.GreedyEmbeddingHelper(embedded1,start_tokens, end_token)\n",
    "else:\n",
    "    \n",
    "\n",
    "    decoder_seq_length = tf.placeholder(tf.int32, shape=[None], name='batch_seq_length')\n",
    "    with tf.device('/cpu:0'):\n",
    "        target_embeddeds = tf.nn.embedding_lookup(embedded2, target)\n",
    "    helper = tf.contrib.seq2seq.TrainingHelper(target_embeddeds, decoder_seq_length)\n",
    "\n"
   ]
  },
  {
   "cell_type": "code",
   "execution_count": 46,
   "metadata": {},
   "outputs": [
    {
     "ename": "AttributeError",
     "evalue": "module 'tensorflow.python.layers.layers' has no attribute 'Dense'",
     "traceback": [
      "\u001b[1;31m---------------------------------------------------------------------------\u001b[0m",
      "\u001b[1;31mAttributeError\u001b[0m                            Traceback (most recent call last)",
      "\u001b[1;32m<ipython-input-46-0bde30449a1f>\u001b[0m in \u001b[0;36m<module>\u001b[1;34m()\u001b[0m\n\u001b[1;32m----> 1\u001b[1;33m \u001b[0mdense\u001b[0m \u001b[1;33m=\u001b[0m \u001b[0mtf\u001b[0m\u001b[1;33m.\u001b[0m\u001b[0mlayers\u001b[0m\u001b[1;33m.\u001b[0m\u001b[0mDense\u001b[0m\u001b[1;33m(\u001b[0m\u001b[0munits\u001b[0m\u001b[1;33m=\u001b[0m\u001b[1;36m1000\u001b[0m\u001b[1;33m)\u001b[0m\u001b[1;33m\u001b[0m\u001b[0m\n\u001b[0m",
      "\u001b[1;31mAttributeError\u001b[0m: module 'tensorflow.python.layers.layers' has no attribute 'Dense'"
     ],
     "output_type": "error"
    }
   ],
   "source": [
    "dense = tf.layers.dense"
   ]
  },
  {
   "cell_type": "code",
   "execution_count": 24,
   "metadata": {
    "collapsed": true
   },
   "outputs": [],
   "source": [
    "cells = tf.contrib.rnn.MultiRNNCell(attention_cell)"
   ]
  },
  {
   "cell_type": "code",
   "execution_count": 25,
   "metadata": {
    "collapsed": true
   },
   "outputs": [],
   "source": [
    "initial_state = cells.zero_state(dtype=tf.float32,batch_size=64)"
   ]
  },
  {
   "cell_type": "code",
   "execution_count": 26,
   "metadata": {},
   "outputs": [],
   "source": [
    "initial_state = list(initial_state)\n",
    "initial_state[0] = initial_state[0].clone(cell_state=states)\n",
    "initial_state = tuple(initial_state)"
   ]
  },
  {
   "cell_type": "code",
   "execution_count": 27,
   "metadata": {},
   "outputs": [
    {
     "data": {
      "text/plain": [
       "<tf.Tensor 'concat_2:0' shape=(64, 480) dtype=float32>"
      ]
     },
     "execution_count": 27,
     "metadata": {},
     "output_type": "execute_result"
    }
   ],
   "source": [
    "states"
   ]
  },
  {
   "cell_type": "code",
   "execution_count": 28,
   "metadata": {
    "collapsed": true
   },
   "outputs": [],
   "source": [
    "test_cell = tf.contrib.rnn.GRUCell(480)\n",
    "attention_test = tf.contrib.seq2seq.AttentionWrapper(test_cell,attention_m)"
   ]
  },
  {
   "cell_type": "code",
   "execution_count": 59,
   "metadata": {},
   "outputs": [
    {
     "ename": "AttributeError",
     "evalue": "'str' object has no attribute 'base_dtype'",
     "traceback": [
      "\u001b[1;31m---------------------------------------------------------------------------\u001b[0m",
      "\u001b[1;31mAttributeError\u001b[0m                            Traceback (most recent call last)",
      "\u001b[1;32m<ipython-input-59-79b4ac4d4866>\u001b[0m in \u001b[0;36m<module>\u001b[1;34m()\u001b[0m\n\u001b[1;32m----> 1\u001b[1;33m \u001b[0mdecoder_test\u001b[0m\u001b[1;33m=\u001b[0m \u001b[0mtf\u001b[0m\u001b[1;33m.\u001b[0m\u001b[0mcontrib\u001b[0m\u001b[1;33m.\u001b[0m\u001b[0mseq2seq\u001b[0m\u001b[1;33m.\u001b[0m\u001b[0mBasicDecoder\u001b[0m\u001b[1;33m(\u001b[0m\u001b[0mtest_cell\u001b[0m\u001b[1;33m,\u001b[0m\u001b[0mhelper\u001b[0m\u001b[1;33m,\u001b[0m\u001b[0mstates\u001b[0m\u001b[1;33m,\u001b[0m\u001b[0mdense\u001b[0m\u001b[1;33m(\u001b[0m\u001b[0minputs\u001b[0m\u001b[1;33m=\u001b[0m\u001b[0mtest_cell\u001b[0m\u001b[1;33m,\u001b[0m\u001b[0munits\u001b[0m\u001b[1;33m=\u001b[0m\u001b[1;36m1000\u001b[0m\u001b[1;33m)\u001b[0m\u001b[1;33m)\u001b[0m\u001b[1;33m\u001b[0m\u001b[0m\n\u001b[0m",
      "\u001b[1;32mD:\\anaconda\\lib\\site-packages\\tensorflow\\python\\layers\\core.py\u001b[0m in \u001b[0;36mdense\u001b[1;34m(inputs, units, activation, use_bias, kernel_initializer, bias_initializer, kernel_regularizer, bias_regularizer, activity_regularizer, trainable, name, reuse)\u001b[0m\n\u001b[0;32m    210\u001b[0m                 \u001b[0mtrainable\u001b[0m\u001b[1;33m=\u001b[0m\u001b[0mtrainable\u001b[0m\u001b[1;33m,\u001b[0m\u001b[1;33m\u001b[0m\u001b[0m\n\u001b[0;32m    211\u001b[0m                 \u001b[0mname\u001b[0m\u001b[1;33m=\u001b[0m\u001b[0mname\u001b[0m\u001b[1;33m,\u001b[0m\u001b[1;33m\u001b[0m\u001b[0m\n\u001b[1;32m--> 212\u001b[1;33m                 \u001b[0mdtype\u001b[0m\u001b[1;33m=\u001b[0m\u001b[0minputs\u001b[0m\u001b[1;33m.\u001b[0m\u001b[0mdtype\u001b[0m\u001b[1;33m.\u001b[0m\u001b[0mbase_dtype\u001b[0m\u001b[1;33m,\u001b[0m\u001b[1;33m\u001b[0m\u001b[0m\n\u001b[0m\u001b[0;32m    213\u001b[0m                 \u001b[0m_scope\u001b[0m\u001b[1;33m=\u001b[0m\u001b[0mname\u001b[0m\u001b[1;33m,\u001b[0m\u001b[1;33m\u001b[0m\u001b[0m\n\u001b[0;32m    214\u001b[0m                 _reuse=reuse)\n",
      "\u001b[1;31mAttributeError\u001b[0m: 'str' object has no attribute 'base_dtype'"
     ],
     "output_type": "error"
    }
   ],
   "source": [
    "decoder_test= tf.contrib.seq2seq.BasicDecoder(test_cell,helper,states,dense(inputs=test_cell,units=1000))"
   ]
  },
  {
   "cell_type": "code",
   "execution_count": 30,
   "metadata": {},
   "outputs": [
    {
     "data": {
      "text/plain": [
       "(BasicDecoderOutput(rnn_output=<tf.Tensor 'decoder/transpose:0' shape=(64, ?, 480) dtype=float32>, sample_id=<tf.Tensor 'decoder/transpose_1:0' shape=(64, ?) dtype=int32>),\n",
       " <tf.Tensor 'decoder/while/Exit_3:0' shape=(64, 480) dtype=float32>,\n",
       " <tf.Tensor 'decoder/while/Exit_6:0' shape=(?,) dtype=int32>)"
      ]
     },
     "execution_count": 30,
     "metadata": {},
     "output_type": "execute_result"
    }
   ],
   "source": [
    "tf.contrib.seq2seq.dynamic_decode(decoder_test)"
   ]
  },
  {
   "cell_type": "code",
   "execution_count": 31,
   "metadata": {},
   "outputs": [
    {
     "data": {
      "text/plain": [
       "(AttentionWrapperState(cell_state=<tf.Tensor 'concat_2:0' shape=(64, 480) dtype=float32>, attention=<tf.Tensor 'MultiRNNCellZeroState/AttentionWrapperZeroState/zeros_1:0' shape=(64, 160) dtype=float32>, time=<tf.Tensor 'MultiRNNCellZeroState/AttentionWrapperZeroState/zeros:0' shape=() dtype=int32>, alignments=<tf.Tensor 'MultiRNNCellZeroState/AttentionWrapperZeroState/zeros_2:0' shape=(64, 20) dtype=float32>, alignment_history=()),\n",
       " AttentionWrapperState(cell_state=<tf.Tensor 'MultiRNNCellZeroState/AttentionWrapperZeroState_1/checked_cell_state:0' shape=(64, 480) dtype=float32>, attention=<tf.Tensor 'MultiRNNCellZeroState/AttentionWrapperZeroState_1/zeros_1:0' shape=(64, 160) dtype=float32>, time=<tf.Tensor 'MultiRNNCellZeroState/AttentionWrapperZeroState_1/zeros:0' shape=() dtype=int32>, alignments=<tf.Tensor 'MultiRNNCellZeroState/AttentionWrapperZeroState_1/zeros_2:0' shape=(64, 20) dtype=float32>, alignment_history=()),\n",
       " AttentionWrapperState(cell_state=<tf.Tensor 'MultiRNNCellZeroState/AttentionWrapperZeroState_2/checked_cell_state:0' shape=(64, 480) dtype=float32>, attention=<tf.Tensor 'MultiRNNCellZeroState/AttentionWrapperZeroState_2/zeros_1:0' shape=(64, 160) dtype=float32>, time=<tf.Tensor 'MultiRNNCellZeroState/AttentionWrapperZeroState_2/zeros:0' shape=() dtype=int32>, alignments=<tf.Tensor 'MultiRNNCellZeroState/AttentionWrapperZeroState_2/zeros_2:0' shape=(64, 20) dtype=float32>, alignment_history=()))"
      ]
     },
     "execution_count": 31,
     "metadata": {},
     "output_type": "execute_result"
    }
   ],
   "source": [
    "initial_state"
   ]
  },
  {
   "cell_type": "code",
   "execution_count": null,
   "metadata": {},
   "outputs": [],
   "source": []
  },
  {
   "cell_type": "code",
   "execution_count": 33,
   "metadata": {},
   "outputs": [
    {
     "data": {
      "text/plain": [
       "(AttentionWrapperState(cell_state=<tf.Tensor 'concat_2:0' shape=(64, 480) dtype=float32>, attention=<tf.Tensor 'MultiRNNCellZeroState/AttentionWrapperZeroState/zeros_1:0' shape=(64, 160) dtype=float32>, time=<tf.Tensor 'MultiRNNCellZeroState/AttentionWrapperZeroState/zeros:0' shape=() dtype=int32>, alignments=<tf.Tensor 'MultiRNNCellZeroState/AttentionWrapperZeroState/zeros_2:0' shape=(64, 20) dtype=float32>, alignment_history=()),\n",
       " AttentionWrapperState(cell_state=<tf.Tensor 'MultiRNNCellZeroState/AttentionWrapperZeroState_1/checked_cell_state:0' shape=(64, 480) dtype=float32>, attention=<tf.Tensor 'MultiRNNCellZeroState/AttentionWrapperZeroState_1/zeros_1:0' shape=(64, 160) dtype=float32>, time=<tf.Tensor 'MultiRNNCellZeroState/AttentionWrapperZeroState_1/zeros:0' shape=() dtype=int32>, alignments=<tf.Tensor 'MultiRNNCellZeroState/AttentionWrapperZeroState_1/zeros_2:0' shape=(64, 20) dtype=float32>, alignment_history=()),\n",
       " AttentionWrapperState(cell_state=<tf.Tensor 'MultiRNNCellZeroState/AttentionWrapperZeroState_2/checked_cell_state:0' shape=(64, 480) dtype=float32>, attention=<tf.Tensor 'MultiRNNCellZeroState/AttentionWrapperZeroState_2/zeros_1:0' shape=(64, 160) dtype=float32>, time=<tf.Tensor 'MultiRNNCellZeroState/AttentionWrapperZeroState_2/zeros:0' shape=() dtype=int32>, alignments=<tf.Tensor 'MultiRNNCellZeroState/AttentionWrapperZeroState_2/zeros_2:0' shape=(64, 20) dtype=float32>, alignment_history=()))"
      ]
     },
     "execution_count": 33,
     "metadata": {},
     "output_type": "execute_result"
    }
   ],
   "source": [
    "initial_state"
   ]
  },
  {
   "cell_type": "code",
   "execution_count": 61,
   "metadata": {},
   "outputs": [
    {
     "data": {
      "text/plain": [
       "BasicDecoderOutput(rnn_output=TensorShape([Dimension(1000)]), sample_id=TensorShape([]))"
      ]
     },
     "execution_count": 61,
     "metadata": {},
     "output_type": "execute_result"
    }
   ],
   "source": [
    "dense = Dense(1000)\n",
    "decoder= tf.contrib.seq2seq.BasicDecoder(cells,helper,initial_state,dense)\n",
    "decoder.output_size"
   ]
  },
  {
   "cell_type": "code",
   "execution_count": 62,
   "metadata": {},
   "outputs": [],
   "source": [
    "logits, final_state, final_sequence_lengths = tf.contrib.seq2seq.dynamic_decode(decoder)"
   ]
  },
  {
   "cell_type": "code",
   "execution_count": 63,
   "metadata": {},
   "outputs": [
    {
     "data": {
      "text/plain": [
       "<tf.Tensor 'decoder_3/transpose:0' shape=(64, ?, 1000) dtype=float32>"
      ]
     },
     "execution_count": 63,
     "metadata": {},
     "output_type": "execute_result"
    }
   ],
   "source": [
    "logits.rnn_output"
   ]
  },
  {
   "cell_type": "code",
   "execution_count": 64,
   "metadata": {
    "collapsed": true
   },
   "outputs": [],
   "source": [
    "sess = tf.Session()"
   ]
  },
  {
   "cell_type": "code",
   "execution_count": 65,
   "metadata": {
    "collapsed": true
   },
   "outputs": [],
   "source": [
    "init = tf.global_variables_initializer()"
   ]
  },
  {
   "cell_type": "code",
   "execution_count": 66,
   "metadata": {
    "collapsed": true
   },
   "outputs": [],
   "source": [
    "sess.run(init)"
   ]
  },
  {
   "cell_type": "code",
   "execution_count": 67,
   "metadata": {
    "scrolled": false
   },
   "outputs": [
    {
     "data": {
      "text/plain": [
       "BasicDecoderOutput(rnn_output=array([[[ 0.06785514,  0.02516485, -0.13122065, ..., -0.01511589,\n",
       "         -0.07720662,  0.13084197],\n",
       "        [ 0.06783184,  0.02516352, -0.13120854, ..., -0.01511713,\n",
       "         -0.07719609,  0.1308215 ],\n",
       "        [ 0.06779718,  0.0251641 , -0.13119452, ..., -0.01511901,\n",
       "         -0.07718301,  0.13079606],\n",
       "        ..., \n",
       "        [ 0.0675955 ,  0.02517049, -0.13112289, ..., -0.01513006,\n",
       "         -0.07712059,  0.13065691],\n",
       "        [ 0.06758905,  0.02517032, -0.13112031, ..., -0.0151304 ,\n",
       "         -0.07711896,  0.13065195],\n",
       "        [ 0.06758379,  0.02517015, -0.13111824, ..., -0.01513067,\n",
       "         -0.07711773,  0.13064782]],\n",
       "\n",
       "       [[-0.12781975, -0.0304979 , -0.04571722, ..., -0.02859229,\n",
       "          0.01682522,  0.03418364],\n",
       "        [-0.12779436, -0.03046543, -0.04571711, ..., -0.02859772,\n",
       "          0.01682378,  0.03418527],\n",
       "        [-0.12776932, -0.03043333, -0.04571682, ..., -0.02860281,\n",
       "          0.01682221,  0.03418699],\n",
       "        ..., \n",
       "        [-0.12765603, -0.03029384, -0.04571489, ..., -0.02862383,\n",
       "          0.01681414,  0.03419339],\n",
       "        [-0.12765534, -0.03029065, -0.04571519, ..., -0.02862455,\n",
       "          0.01681481,  0.03419407],\n",
       "        [-0.12765598, -0.03028887, -0.04571551, ..., -0.0286251 ,\n",
       "          0.01681565,  0.03419475]],\n",
       "\n",
       "       [[-0.03558009, -0.0533399 , -0.08952583, ..., -0.0308028 ,\n",
       "          0.01706089,  0.00786144],\n",
       "        [-0.03556985, -0.05334979, -0.08951795, ..., -0.03080901,\n",
       "          0.0170588 ,  0.00784903],\n",
       "        [-0.03556214, -0.05335636, -0.08951126, ..., -0.03081378,\n",
       "          0.01705806,  0.00783992],\n",
       "        ..., \n",
       "        [-0.03552206, -0.05340672, -0.08949016, ..., -0.03083767,\n",
       "          0.01703522,  0.00779356],\n",
       "        [-0.03551959, -0.05341093, -0.08948985, ..., -0.03083908,\n",
       "          0.01703253,  0.00779068],\n",
       "        [-0.03551747, -0.05341463, -0.08948961, ..., -0.03084025,\n",
       "          0.01703015,  0.00778818]],\n",
       "\n",
       "       ..., \n",
       "       [[ 0.01304372,  0.03974619, -0.08431292, ...,  0.10433464,\n",
       "         -0.06755219,  0.04730853],\n",
       "        [ 0.01303968,  0.03975565, -0.08430835, ...,  0.10432293,\n",
       "         -0.06754892,  0.04731012],\n",
       "        [ 0.01303656,  0.03976156, -0.08430407, ...,  0.10431483,\n",
       "         -0.06754704,  0.04731055],\n",
       "        ..., \n",
       "        [ 0.01302549,  0.03971655, -0.08425535, ...,  0.1043324 ,\n",
       "         -0.06757041,  0.04727374],\n",
       "        [ 0.01302492,  0.03971083, -0.08425114, ...,  0.10433572,\n",
       "         -0.06757318,  0.04726987],\n",
       "        [ 0.01302445,  0.039706  , -0.08424756, ...,  0.10433853,\n",
       "         -0.06757551,  0.0472666 ]],\n",
       "\n",
       "       [[-0.06646388,  0.00426666, -0.11804681, ..., -0.07019876,\n",
       "          0.07155232, -0.04665618],\n",
       "        [-0.06646729,  0.00426508, -0.11805295, ..., -0.07019857,\n",
       "          0.07155265, -0.04665855],\n",
       "        [-0.06646957,  0.00426389, -0.11805526, ..., -0.07020155,\n",
       "          0.07155319, -0.04666012],\n",
       "        ..., \n",
       "        [-0.06646976,  0.0042633 , -0.11805257, ..., -0.07020929,\n",
       "          0.07155406, -0.04666039],\n",
       "        [-0.06646922,  0.00426352, -0.11805199, ..., -0.070209  ,\n",
       "          0.07155401, -0.04666004],\n",
       "        [-0.0664687 ,  0.00426378, -0.11805134, ..., -0.07020868,\n",
       "          0.07155395, -0.04665969]],\n",
       "\n",
       "       [[ 0.04422408,  0.03023829, -0.04158057, ..., -0.02273064,\n",
       "         -0.00268718,  0.07384551],\n",
       "        [ 0.04418284,  0.03023972, -0.04157361, ..., -0.02272414,\n",
       "         -0.00265827,  0.07382822],\n",
       "        [ 0.04414384,  0.03023994, -0.0415679 , ..., -0.02271825,\n",
       "         -0.00263095,  0.07381237],\n",
       "        ..., \n",
       "        [ 0.04399198,  0.03024914, -0.04154216, ..., -0.0226938 ,\n",
       "         -0.00252541,  0.07374842],\n",
       "        [ 0.04398891,  0.03024996, -0.04154114, ..., -0.02269315,\n",
       "         -0.00252319,  0.07374694],\n",
       "        [ 0.04398676,  0.03025066, -0.04154035, ..., -0.02269269,\n",
       "         -0.0025216 ,  0.07374591]]], dtype=float32), sample_id=array([[798, 798, 798, 798, 798, 798, 798, 798, 798, 798, 798, 798, 798,\n",
       "        798],\n",
       "       [656, 656, 656, 656, 656, 656, 656, 656, 656, 656, 656, 656, 656,\n",
       "        656],\n",
       "       [662, 662, 662, 662, 662, 662, 662, 662, 662, 662, 662, 662, 662,\n",
       "        662],\n",
       "       [ 97,  97,  97,  97,  97,  97,  97,  97,  97,  97,  97,  97,  97,\n",
       "         97],\n",
       "       [544, 544, 544, 544, 544, 544, 544, 544, 544, 544, 544, 544, 544,\n",
       "        544],\n",
       "       [403, 403, 403, 403, 403, 403, 403, 403, 403, 403, 403, 403, 403,\n",
       "        403],\n",
       "       [948, 948, 948, 948, 948, 948, 948, 948, 948, 948, 948, 948, 948,\n",
       "        948],\n",
       "       [358, 358, 358, 358, 358, 358, 358, 358, 358, 358, 358, 358, 358,\n",
       "        358],\n",
       "       [905, 905, 905, 905, 905, 905, 905, 905, 905, 905, 905, 905, 905,\n",
       "        905],\n",
       "       [468, 468, 468, 468, 468, 468, 468, 468, 468, 468, 468, 468, 468,\n",
       "        468],\n",
       "       [  9,   9,   9,   9,   9,   9,   9,   9,   9,   9,   9,   9,   9,\n",
       "          9],\n",
       "       [656, 656, 656, 656, 656, 656, 656, 656, 656, 656, 656, 656, 656,\n",
       "        656],\n",
       "       [345, 345, 345, 345, 345, 345, 345, 345, 345, 345, 345, 345, 345,\n",
       "        345],\n",
       "       [399, 399, 399, 399, 399, 399, 399, 399, 399, 399, 399, 399, 399,\n",
       "        399],\n",
       "       [432, 432, 432, 432, 432, 432, 432, 432, 432, 432, 432, 432, 432,\n",
       "        432],\n",
       "       [999, 999, 999, 999, 999, 999, 999, 999, 999, 999, 999, 999, 999,\n",
       "        999],\n",
       "       [918, 918, 918, 918, 918, 918, 918, 918, 918, 918, 918, 918, 918,\n",
       "        918],\n",
       "       [ 55,  55,  55,  55,  55,  55,  55,  55,  55,  55,  55,  55,  55,\n",
       "         55],\n",
       "       [816, 816, 816, 816, 816, 816, 816, 816, 816, 816, 816, 816, 816,\n",
       "        816],\n",
       "       [105, 105, 105, 105, 105, 105, 105, 105, 105, 105, 105, 105, 105,\n",
       "        105],\n",
       "       [561, 561, 561, 561, 561, 561, 561, 561, 561, 561, 561, 561, 561,\n",
       "        561],\n",
       "       [857, 857, 857, 857, 857, 857, 857, 857, 857, 857, 857, 857, 857,\n",
       "        857],\n",
       "       [125, 125, 125, 125, 125, 125, 125, 125, 125, 125, 125, 125, 125,\n",
       "        125],\n",
       "       [277, 277, 277, 277, 277, 277, 277, 277, 277, 277, 277, 277, 277,\n",
       "        277],\n",
       "       [816, 816, 816, 816, 816, 816, 816, 816, 816, 816, 816, 816, 816,\n",
       "        816],\n",
       "       [  5,   5,   5,   5,   5,   5,   5,   5,   5,   5,   5,   5,   5,\n",
       "          5],\n",
       "       [125, 125, 125, 125, 125, 125, 125, 125, 125, 125, 125, 125, 125,\n",
       "        125],\n",
       "       [561, 561, 561, 561, 561, 561, 561, 561, 561, 561, 561, 561, 561,\n",
       "        561],\n",
       "       [561, 561, 561, 561, 561, 561, 561, 561, 561, 561, 561, 561, 561,\n",
       "        561],\n",
       "       [715, 715, 715, 715, 715, 715, 715, 715, 715, 715, 715, 715, 715,\n",
       "        715],\n",
       "       [311, 311, 311, 311, 311, 311, 311, 311, 311, 311, 311, 311, 311,\n",
       "        311],\n",
       "       [857, 857, 857, 857, 857, 857, 857, 857, 857, 857, 857, 857, 857,\n",
       "        857],\n",
       "       [676, 676, 676, 676, 676, 676, 676, 676, 676, 676, 676, 676, 676,\n",
       "        676],\n",
       "       [561, 561, 561, 561, 561, 561, 561, 561, 561, 561, 561, 561, 561,\n",
       "        561],\n",
       "       [881, 881, 881, 881, 881, 881, 881, 881, 881, 881, 881, 881, 881,\n",
       "        881],\n",
       "       [282, 282, 282, 282, 282, 282, 282, 282, 282, 282, 282, 282, 282,\n",
       "        282],\n",
       "       [786, 786, 786, 786, 786, 786, 786, 786, 786, 786, 786, 786, 786,\n",
       "        786],\n",
       "       [760, 760, 760, 760, 760, 760, 760, 760, 760, 760, 760, 760, 760,\n",
       "        760],\n",
       "       [918, 918, 918, 918, 918, 918, 918, 918, 918, 918, 918, 918, 918,\n",
       "        918],\n",
       "       [476, 476, 476, 476, 476, 476, 476, 476, 476, 476, 476, 476, 476,\n",
       "        476],\n",
       "       [617, 617, 617, 617, 617, 617, 617, 617, 617, 617, 617, 617, 617,\n",
       "        617],\n",
       "       [396, 396, 396, 396, 396, 396, 396, 396, 396, 396, 396, 396, 396,\n",
       "        396],\n",
       "       [957, 957, 957, 957, 957, 957, 957, 957, 957, 957, 957, 957, 957,\n",
       "        957],\n",
       "       [178, 178, 178, 178, 178, 178, 178, 178, 178, 178, 178, 178, 178,\n",
       "        178],\n",
       "       [534, 534, 534, 534, 534, 534, 534, 534, 534, 534, 534, 534, 534,\n",
       "        534],\n",
       "       [491, 491, 491, 491, 491, 491, 491, 491, 491, 491, 491, 491, 491,\n",
       "        491],\n",
       "       [999, 999, 999, 999, 999, 999, 999, 999, 999, 999, 999, 999, 999,\n",
       "        999],\n",
       "       [544, 544, 544, 544, 544, 544, 544, 544, 544, 544, 544, 544, 544,\n",
       "        544],\n",
       "       [ 28,  28,  28,  28,  28,  28,  28,  28,  28,  28,  28,  28,  28,\n",
       "         28],\n",
       "       [476, 476, 476, 476, 476, 476, 476, 476, 476, 476, 476, 476, 476,\n",
       "        476],\n",
       "       [544, 544, 544, 544, 544, 544, 544, 544, 544, 544, 544, 544, 544,\n",
       "        544],\n",
       "       [111, 111, 111, 111, 111, 111, 111, 111, 111, 111, 111, 111, 111,\n",
       "        111],\n",
       "       [  0,   0,   0,   0,   0,   0,   0,   0,   0,   0,   0,   0,   0,\n",
       "          0],\n",
       "       [ 93,  93,  93,  93,  93,  93,  93,  93,  93,  93,  93,  93,  93,\n",
       "         93],\n",
       "       [303, 303, 303, 303, 303, 303, 303, 303, 303, 303, 303, 303, 303,\n",
       "        303],\n",
       "       [881, 881, 881, 881, 881, 881, 881, 881, 881, 881, 881, 881, 881,\n",
       "        881],\n",
       "       [ 77,  77,  77,  77,  77,  77,  77,  77,  77,  77,  77,  77,  77,\n",
       "         77],\n",
       "       [777, 777, 777, 777, 777, 777, 777, 777, 777, 777, 777, 777, 777,\n",
       "        777],\n",
       "       [337, 337, 337, 337, 337, 337, 337, 337, 337, 337, 337, 337, 337,\n",
       "        337],\n",
       "       [476, 476, 476, 476, 476, 476, 476, 476, 476, 476, 476, 476, 476,\n",
       "        476],\n",
       "       [103, 103, 103, 103, 103, 103, 103, 103, 103, 103, 103, 103, 103,\n",
       "        103],\n",
       "       [405, 405, 405, 405, 405, 405, 405, 405, 405, 405, 405, 405, 405,\n",
       "        405],\n",
       "       [627, 627, 627, 627, 627, 627, 627, 627, 627, 627, 627, 627, 627,\n",
       "        627],\n",
       "       [136, 136, 136, 136, 136, 136, 136, 136, 136, 136, 136, 136, 136,\n",
       "        136]]))"
      ]
     },
     "execution_count": 67,
     "metadata": {},
     "output_type": "execute_result"
    }
   ],
   "source": [
    "(sess.run(logits,feed_dict={decoder_seq_length:de_len_sequence}))"
   ]
  },
  {
   "cell_type": "code",
   "execution_count": 60,
   "metadata": {},
   "outputs": [],
   "source": [
    "from tensorflow.python.layers.core import Dense"
   ]
  },
  {
   "cell_type": "code",
   "execution_count": null,
   "metadata": {
    "collapsed": true
   },
   "outputs": [],
   "source": []
  }
 ],
 "metadata": {
  "kernelspec": {
   "display_name": "Python 3",
   "language": "python",
   "name": "python3"
  },
  "language_info": {
   "codemirror_mode": {
    "name": "ipython",
    "version": 3
   },
   "file_extension": ".py",
   "mimetype": "text/x-python",
   "name": "python",
   "nbconvert_exporter": "python",
   "pygments_lexer": "ipython3",
   "version": "3.6.1"
  }
 },
 "nbformat": 4,
 "nbformat_minor": 2
}
